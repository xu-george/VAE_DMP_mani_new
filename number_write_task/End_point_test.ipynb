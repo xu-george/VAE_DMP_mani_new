{
 "cells": [
  {
   "cell_type": "markdown",
   "metadata": {},
   "source": [
    "Code to test the precision of the end point with dmp and cvae"
   ]
  },
  {
   "cell_type": "code",
   "execution_count": 1,
   "metadata": {},
   "outputs": [
    {
     "name": "stdout",
     "output_type": "stream",
     "text": [
      "/home/binzhao/Documents/code/VAE_DMP_mani/number_write_task\n"
     ]
    }
   ],
   "source": [
    "import os, time, tqdm, sys\n",
    "import torch.nn as nn\n",
    "import numpy as np\n",
    "import torch\n",
    "\n",
    "# add parent dictionary to path\n",
    "parent_dir = os.path.abspath(os.path.join(os.getcwd(), '..'))\n",
    "sys.path.append(parent_dir)\n",
    "\n",
    "from models.vae import TrajGen, DM\n",
    "from models.dmp import CanonicalSystem, SingleDMP\n",
    "from utils.data_loader import TorqueLoader as Torque_dataset\n",
    "from utils.early_stop import EarlyStop\n",
    "from matplotlib import pyplot as plt\n",
    "from collections import OrderedDict\n",
    "print(os.getcwd())\n",
    "device = torch.device('cuda' if torch.cuda.is_available() else 'cpu')"
   ]
  },
  {
   "cell_type": "code",
   "execution_count": 2,
   "metadata": {},
   "outputs": [
    {
     "name": "stdout",
     "output_type": "stream",
     "text": [
      "[178.56984 199.07835] [-187.85435 -179.23535]\n"
     ]
    }
   ],
   "source": [
    "# load the data set and the class to normalize the data\n",
    "# denormalize the torque\n",
    "run_time = 1\n",
    "dt = 0.01\n",
    "shape = (2, 100)\n",
    "# create dataset for training and testing\n",
    "cs = CanonicalSystem(dt=0.01, ax=1)\n",
    "dmp = SingleDMP(n_bfs=50, cs=cs, run_time=1.0, dt=0.01)\n",
    "\n",
    "\n",
    "train_dataset = Torque_dataset(run_time=1, dmp=dmp, dt=0.01, dof=2)\n",
    "train_dataset.load_data('../data/number_write/train_torque.npz', device=device)\n",
    "train_dataset.torque = train_dataset.normalize_data(device=device)\n",
    "\n",
    "#get normalize  paramters of data\n",
    "max = train_dataset.max.cpu().numpy()\n",
    "min = train_dataset.min.cpu().numpy()\n",
    "print(max, min)"
   ]
  },
  {
   "cell_type": "markdown",
   "metadata": {},
   "source": [
    "load the pretrain torque based trajectory generator (cVAE based)"
   ]
  },
  {
   "cell_type": "code",
   "execution_count": null,
   "metadata": {},
   "outputs": [],
   "source": [
    "# load the pretrained model\n",
    "save_name = \"cVAE_torque.pt\"\n",
    "checkpoint = torch.load(save_name, map_location=device)\n",
    "dict = checkpoint['net']"
   ]
  },
  {
   "cell_type": "code",
   "execution_count": 5,
   "metadata": {},
   "outputs": [],
   "source": [
    "# load the decoder part only -- generator\n",
    "decoder_param = OrderedDict() \n",
    "    \n",
    "key_word_1 = {\"decoder.\"}\n",
    "key_word_2 = {\"label_embedding.\"}\n",
    "\n",
    "for layer_name, param in checkpoint[\"net\"].items():\n",
    "    for key_word in key_word_1:\n",
    "        if key_word in layer_name:            \n",
    "            layer_name = layer_name.replace(key_word, \"\")            \n",
    "            decoder_param[layer_name] = param\n",
    "\n",
    "torch.save(decoder_param, \"../models/decoder.pt\")\n",
    "\n",
    "# save label encoder\n",
    "label_encoder_param = OrderedDict()\n",
    "for layer_name, param in checkpoint[\"net\"].items():\n",
    "    for key_word in key_word_2:\n",
    "        if key_word in layer_name:            \n",
    "            layer_name = layer_name.replace(key_word, \"\")            \n",
    "            label_encoder_param[layer_name] = param\n",
    "\n",
    "torch.save(label_encoder_param, \"../models/label_encoder.pt\")"
   ]
  },
  {
   "cell_type": "markdown",
   "metadata": {},
   "source": [
    "create trajecotr generator  --  decoder + dynamics systems"
   ]
  },
  {
   "cell_type": "code",
   "execution_count": null,
   "metadata": {},
   "outputs": [],
   "source": [
    "shape = (2, 100)\n",
    "nclass=10\n",
    "nhid=8\n",
    "ncond=8\n",
    "traj_gen = TrajGen(shape=shape, nclass=nclass, nhid=nhid, ncond=ncond, min=min, max=max, device=device)\n",
    "# send to device\n",
    "traj_gen = traj_gen.to(device)\n",
    "# load model\n",
    "traj_gen.decoder_o.load_state_dict(torch.load('../models/decoder.pt'))\n",
    "traj_gen.decoder_n.load_state_dict(torch.load('../models/decoder.pt'))\n",
    "traj_gen.label_embedding.load_state_dict(torch.load('../models/label_encoder.pt'))"
   ]
  },
  {
   "cell_type": "code",
   "execution_count": null,
   "metadata": {},
   "outputs": [],
   "source": [
    "x0 = np.array([0, 1]).T\n",
    "goal = np.array([1, 0]).T\n",
    "plt.plot(x0[0], x0[1], 'go', label='start', markersize=10)\n",
    "plt.plot(goal[0], goal[1], 'ro', label='goal', markersize=10)\n",
    "\n",
    "goal_all = 0.3*(np.random.rand(50, 2) - 0.5) + goal\n",
    "plt.scatter(goal_all[:, 0], goal_all[:,1], color='b')\n",
    "\n",
    "number = 3\n",
    "traj_gen.eval()\n",
    "with torch.no_grad():\n",
    "    traj1 = traj_gen(number, x0=x0, goal=goal)   \n",
    "    # plot the generated torque\n",
    "np_traj1 = traj1.detach().cpu().numpy()\n",
    "\n",
    "plt.plot(np_traj1[0, 0, :].T, np_traj1[0, 1, :].T, linewidth=5)\n",
    "plt.tick_params(labelsize=30)\n",
    "plt.axis(\"equal\")\n",
    "# save the figure\n",
    "plt.savefig(\"traj_7.png\")\n",
    "plt.show()\n"
   ]
  },
  {
   "cell_type": "code",
   "execution_count": null,
   "metadata": {},
   "outputs": [],
   "source": [
    "number = 3\n",
    "traj_gen.eval()\n",
    "with torch.no_grad():\n",
    "    error = []\n",
    "    for goal_t in goal_all:\n",
    "        traj1 = traj_gen(number, x0=x0, goal=goal_t)   \n",
    "        error.append(np.linalg.norm(traj1.detach().cpu().numpy()[0, :, -1] - goal_t))\n",
    "print(np.mean(error))"
   ]
  },
  {
   "cell_type": "code",
   "execution_count": null,
   "metadata": {},
   "outputs": [],
   "source": [
    "x0 = np.array([0, 1]).T\n",
    "goal = np.array([1, 0]).T\n",
    "number = 2\n",
    "\n",
    "# plot via point and start and goal\n",
    "plt.plot(x0[0], x0[1], 'go', label='start')\n",
    "plt.plot(goal[0], goal[1], 'ro', label='goal')\n",
    "\n",
    "\n",
    "traj_gen.eval()\n",
    "with torch.no_grad():\n",
    "    traj1 = traj_gen(number, x0=x0, goal=goal)  \n",
    "\n",
    "np_traj1 = traj1.detach().cpu().numpy()\n",
    "plt.plot(np_traj1[0, 0, :].T, np_traj1[0, 1, :].T, linewidth=2, color='gray')\n",
    "\n",
    "via_point = np_traj1[0, :, 50] - np.array([0.2,0.1])\n",
    "plt.plot(via_point[0], via_point[1], 'bo', label='via point')\n",
    "plt.tick_params(labelsize=20)\n",
    "plt.axis(\"equal\")\n",
    "plt.show()\n",
    "print(via_point)"
   ]
  },
  {
   "cell_type": "code",
   "execution_count": null,
   "metadata": {},
   "outputs": [],
   "source": [
    "# show all the trainable parameters\n",
    "for name, param in traj_gen.named_parameters():\n",
    "    print(f\"Parameter: {name}, Size: {param.size()}, Grad: {param.requires_grad}\")"
   ]
  },
  {
   "cell_type": "markdown",
   "metadata": {},
   "source": [
    "retrain the decoder network to pass the via point "
   ]
  },
  {
   "cell_type": "code",
   "execution_count": 195,
   "metadata": {},
   "outputs": [],
   "source": [
    "def traj_loss(point, class_idx, x0, goal):\n",
    "    \"\"\"\n",
    "    point: (batch_size, n_dof) -- the via point must get through\n",
    "    class_idx: (batch_size, ) -- the class of trajectory\n",
    "    x0: (n_dof) -- the initial state of the trajectory\n",
    "    goal: (n_dof) -- the goal of the trajectory\n",
    "    \"\"\"\n",
    "    # unsqueeze the point to (batch_size, n_dof, 1)\n",
    "    point = point.unsqueeze(-1)\n",
    "    \n",
    "    if len(point.shape) == 2:\n",
    "        point = point.unsqueeze(0)\n",
    "\n",
    "    o_traj = traj_gen.generator(class_idx, x0, goal, d_type=\"old\")\n",
    "    n_traj = traj_gen.generator(class_idx, x0, goal, d_type=\"new\")\n",
    "    \n",
    "    # via point to the trajectory\n",
    "    p_loss = torch.min(torch.norm(n_traj - point, p=2, dim=1))\n",
    "    # trajectory shape loss\n",
    "    s_loss = torch.mean(torch.norm(o_traj - n_traj, p=2, dim=1))    \n",
    "    # end position loss\n",
    "    e_loss = torch.norm(n_traj[:, :, -1] - goal, p=2, dim=1)\n",
    "\n",
    "    print(\"s_loss:\", s_loss)\n",
    "    print(\"e_loss:\", e_loss)\n",
    "    print(\"p_loss:\", p_loss)\n",
    "    \n",
    "    return 0.2*e_loss + 0.2*p_loss + 0.6*s_loss"
   ]
  },
  {
   "cell_type": "code",
   "execution_count": null,
   "metadata": {},
   "outputs": [],
   "source": [
    "number = 2\n",
    "x0 = torch.tensor(np.array([0, 1]).T).to(device)\n",
    "goal= torch.tensor(np.array([1, 0]).T).to(device)\n",
    "\n",
    "via_point = torch.tensor(via_point).to(device)\n",
    "\n",
    "optimizer = torch.optim.Adam(filter(lambda p: p.requires_grad, traj_gen.parameters()), lr=0.01)\n",
    "epoch=100\n",
    "\n",
    "traj_gen.train()   # in training model\n",
    "for i in range(epoch):\n",
    "    optimizer.zero_grad()\n",
    "    loss = traj_loss(point=via_point, class_idx=number, x0=x0, goal=goal)\n",
    "    loss.backward()\n",
    "    optimizer.step()\n",
    "\n",
    "    # print the loss every 100 epoch\n",
    "    if i % 20 == 0:\n",
    "        print('epoch: {}, loss: {}'.format(i, loss.item()))\n",
    "\n",
    "x0 = x0.cpu().numpy()\n",
    "goal = goal.cpu().numpy()\n",
    "via_point = via_point.cpu().numpy()"
   ]
  },
  {
   "cell_type": "markdown",
   "metadata": {},
   "source": [
    "plot the trajectory after retain"
   ]
  },
  {
   "cell_type": "code",
   "execution_count": null,
   "metadata": {},
   "outputs": [],
   "source": [
    "number = 2\n",
    "\n",
    "plt.plot(x0[0], x0[1], 'go', label='start', markersize=10)\n",
    "plt.plot(goal[0], goal[1], 'ro', label='goal', markersize=10)\n",
    "plt.plot(via_point[0], via_point[1], 'bo', label='via point')\n",
    "\n",
    "traj_gen.eval()\n",
    "with torch.no_grad():\n",
    "    traj = traj_gen(number, x0=x0, goal=goal)    \n",
    "    # plot the generated torque\n",
    "    new_traj = traj.detach().cpu().numpy()\n",
    "    \n",
    "plt.plot(new_traj[0, 0, :].T, new_traj[0, 1, :].T, color='purple', linewidth=2)\n",
    "plt.plot(np_traj1[0, 0, :].T, np_traj1[0, 1, :].T, color='gray', label='generated torque')\n",
    "plt.tick_params(labelsize=20)\n",
    "plt.axis(\"equal\")"
   ]
  }
 ],
 "metadata": {
  "kernelspec": {
   "display_name": "robot_env",
   "language": "python",
   "name": "python3"
  },
  "language_info": {
   "codemirror_mode": {
    "name": "ipython",
    "version": 3
   },
   "file_extension": ".py",
   "mimetype": "text/x-python",
   "name": "python",
   "nbconvert_exporter": "python",
   "pygments_lexer": "ipython3",
   "version": "3.8.19"
  },
  "orig_nbformat": 4
 },
 "nbformat": 4,
 "nbformat_minor": 2
}
